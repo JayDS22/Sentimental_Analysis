{
 "cells": [
  {
   "cell_type": "markdown",
   "id": "1a2a5d0a",
   "metadata": {},
   "source": [
    "## Customer Sentiments Extraction - Logic Building\n",
    "- ref: https://docs.python.org/3/library/re.html {Regex Documentation} - IMP\n",
    "- To Try and get close to achieve just customer commnents\n",
    "- Data used: Jan2022 - Jun2022 (Salesforce Custom Report)\n",
    "\n",
    "---\n",
    "---"
   ]
  },
  {
   "cell_type": "code",
   "execution_count": 45,
   "id": "2a50cf1b",
   "metadata": {},
   "outputs": [],
   "source": [
    "from platform import python_version"
   ]
  },
  {
   "cell_type": "code",
   "execution_count": 46,
   "id": "952b232f",
   "metadata": {},
   "outputs": [
    {
     "data": {
      "text/plain": [
       "'3.9.7'"
      ]
     },
     "execution_count": 46,
     "metadata": {},
     "output_type": "execute_result"
    }
   ],
   "source": [
    "#!pip install scikit-learn==0.24.2\n",
    "#!pip install h5py\n",
    "#!pip install typing-extensions\n",
    "#!pip install wheel\n",
    "python_version()"
   ]
  },
  {
   "cell_type": "code",
   "execution_count": 47,
   "id": "f00f09b2",
   "metadata": {},
   "outputs": [],
   "source": [
    "#-- Imports\n",
    "\n",
    "import numpy as np\n",
    "import pandas as pd\n",
    "import seaborn as sns\n",
    "import matplotlib.pyplot as plt\n",
    "import re\n",
    "import io\n",
    "\n",
    "from tqdm import tqdm # To get progress bar for every process # To Progress Apply a User Defined Function, To each and every Record multiple times\n",
    "tqdm.pandas()\n",
    "from tqdm.notebook import tqdm as tn"
   ]
  },
  {
   "cell_type": "code",
   "execution_count": 48,
   "id": "d1aaf899",
   "metadata": {},
   "outputs": [],
   "source": [
    "import dtale"
   ]
  },
  {
   "cell_type": "code",
   "execution_count": 49,
   "id": "9e9c84c0",
   "metadata": {},
   "outputs": [
    {
     "data": {
      "text/html": [
       "<div>\n",
       "<style scoped>\n",
       "    .dataframe tbody tr th:only-of-type {\n",
       "        vertical-align: middle;\n",
       "    }\n",
       "\n",
       "    .dataframe tbody tr th {\n",
       "        vertical-align: top;\n",
       "    }\n",
       "\n",
       "    .dataframe thead th {\n",
       "        text-align: right;\n",
       "    }\n",
       "</style>\n",
       "<table border=\"1\" class=\"dataframe\">\n",
       "  <thead>\n",
       "    <tr style=\"text-align: right;\">\n",
       "      <th></th>\n",
       "      <th>Is Incoming</th>\n",
       "      <th>Case Origin</th>\n",
       "      <th>Closed</th>\n",
       "      <th>From Address</th>\n",
       "      <th>Case Owner</th>\n",
       "      <th>Case Comments</th>\n",
       "      <th>Account Name</th>\n",
       "      <th>Subject</th>\n",
       "      <th>Date/Time Opened</th>\n",
       "      <th>Open</th>\n",
       "      <th>Email Subject</th>\n",
       "      <th>Age (Hours)</th>\n",
       "      <th>Email Status</th>\n",
       "      <th>Email Message Date</th>\n",
       "      <th>Case Comment Created By</th>\n",
       "      <th>From Name</th>\n",
       "      <th>Case Number</th>\n",
       "    </tr>\n",
       "  </thead>\n",
       "  <tbody>\n",
       "    <tr>\n",
       "      <th>0</th>\n",
       "      <td>0</td>\n",
       "      <td>Email</td>\n",
       "      <td>1.0</td>\n",
       "      <td>info@azuga.com</td>\n",
       "      <td>Gerard Revaz</td>\n",
       "      <td>Report Type: SpeedGaugeTM Daily Summary [Vehic...</td>\n",
       "      <td>Azuga Internal Account</td>\n",
       "      <td>SpeedGauge - All Vehicles Daily Group Summary ...</td>\n",
       "      <td>01/01/22 2:14</td>\n",
       "      <td>0.0</td>\n",
       "      <td>Fleet Support case# 00518840 -</td>\n",
       "      <td>51.0</td>\n",
       "      <td>Sent</td>\n",
       "      <td>01/01/22 2:14</td>\n",
       "      <td>System</td>\n",
       "      <td>Fleet Support</td>\n",
       "      <td>518840.0</td>\n",
       "    </tr>\n",
       "    <tr>\n",
       "      <th>1</th>\n",
       "      <td>0</td>\n",
       "      <td>Email</td>\n",
       "      <td>1.0</td>\n",
       "      <td>info@azuga.com</td>\n",
       "      <td>Gerard Revaz</td>\n",
       "      <td>Hi ,\\n\\nThank you for contacting Azuga Custome...</td>\n",
       "      <td>Azuga Internal Account</td>\n",
       "      <td>SpeedGauge - All Vehicles Daily Group Summary ...</td>\n",
       "      <td>01/01/22 2:14</td>\n",
       "      <td>0.0</td>\n",
       "      <td>Fleet Support case# 00518840 -</td>\n",
       "      <td>51.0</td>\n",
       "      <td>Sent</td>\n",
       "      <td>01/01/22 2:14</td>\n",
       "      <td>System</td>\n",
       "      <td>Fleet Support</td>\n",
       "      <td>518840.0</td>\n",
       "    </tr>\n",
       "    <tr>\n",
       "      <th>2</th>\n",
       "      <td>0</td>\n",
       "      <td>Email</td>\n",
       "      <td>1.0</td>\n",
       "      <td>info@azuga.com</td>\n",
       "      <td>Gerard Revaz</td>\n",
       "      <td>Note:\\n\\nNo Action Required</td>\n",
       "      <td>Azuga Internal Account</td>\n",
       "      <td>SpeedGauge - All Vehicles Daily Group Summary ...</td>\n",
       "      <td>01/01/22 2:14</td>\n",
       "      <td>0.0</td>\n",
       "      <td>Fleet Support case# 00518840 -</td>\n",
       "      <td>51.0</td>\n",
       "      <td>Sent</td>\n",
       "      <td>01/01/22 2:14</td>\n",
       "      <td>Gerard Revaz</td>\n",
       "      <td>Fleet Support</td>\n",
       "      <td>518840.0</td>\n",
       "    </tr>\n",
       "    <tr>\n",
       "      <th>3</th>\n",
       "      <td>1</td>\n",
       "      <td>Email</td>\n",
       "      <td>1.0</td>\n",
       "      <td>speedgauge@speedgauge.net</td>\n",
       "      <td>Gerard Revaz</td>\n",
       "      <td>Report Type: SpeedGaugeTM Daily Summary [Vehic...</td>\n",
       "      <td>Azuga Internal Account</td>\n",
       "      <td>SpeedGauge - All Vehicles Daily Group Summary ...</td>\n",
       "      <td>01/01/22 2:14</td>\n",
       "      <td>0.0</td>\n",
       "      <td>SpeedGauge - All Vehicles Daily Group Summary ...</td>\n",
       "      <td>51.0</td>\n",
       "      <td>Read</td>\n",
       "      <td>01/01/22 2:13</td>\n",
       "      <td>System</td>\n",
       "      <td>NaN</td>\n",
       "      <td>518840.0</td>\n",
       "    </tr>\n",
       "    <tr>\n",
       "      <th>4</th>\n",
       "      <td>1</td>\n",
       "      <td>Email</td>\n",
       "      <td>1.0</td>\n",
       "      <td>speedgauge@speedgauge.net</td>\n",
       "      <td>Gerard Revaz</td>\n",
       "      <td>Hi ,\\n\\nThank you for contacting Azuga Custome...</td>\n",
       "      <td>Azuga Internal Account</td>\n",
       "      <td>SpeedGauge - All Vehicles Daily Group Summary ...</td>\n",
       "      <td>01/01/22 2:14</td>\n",
       "      <td>0.0</td>\n",
       "      <td>SpeedGauge - All Vehicles Daily Group Summary ...</td>\n",
       "      <td>51.0</td>\n",
       "      <td>Read</td>\n",
       "      <td>01/01/22 2:13</td>\n",
       "      <td>System</td>\n",
       "      <td>NaN</td>\n",
       "      <td>518840.0</td>\n",
       "    </tr>\n",
       "  </tbody>\n",
       "</table>\n",
       "</div>"
      ],
      "text/plain": [
       "  Is Incoming Case Origin  Closed               From Address    Case Owner  \\\n",
       "0           0       Email     1.0             info@azuga.com  Gerard Revaz   \n",
       "1           0       Email     1.0             info@azuga.com  Gerard Revaz   \n",
       "2           0       Email     1.0             info@azuga.com  Gerard Revaz   \n",
       "3           1       Email     1.0  speedgauge@speedgauge.net  Gerard Revaz   \n",
       "4           1       Email     1.0  speedgauge@speedgauge.net  Gerard Revaz   \n",
       "\n",
       "                                       Case Comments            Account Name  \\\n",
       "0  Report Type: SpeedGaugeTM Daily Summary [Vehic...  Azuga Internal Account   \n",
       "1  Hi ,\\n\\nThank you for contacting Azuga Custome...  Azuga Internal Account   \n",
       "2                        Note:\\n\\nNo Action Required  Azuga Internal Account   \n",
       "3  Report Type: SpeedGaugeTM Daily Summary [Vehic...  Azuga Internal Account   \n",
       "4  Hi ,\\n\\nThank you for contacting Azuga Custome...  Azuga Internal Account   \n",
       "\n",
       "                                             Subject Date/Time Opened  Open  \\\n",
       "0  SpeedGauge - All Vehicles Daily Group Summary ...    01/01/22 2:14   0.0   \n",
       "1  SpeedGauge - All Vehicles Daily Group Summary ...    01/01/22 2:14   0.0   \n",
       "2  SpeedGauge - All Vehicles Daily Group Summary ...    01/01/22 2:14   0.0   \n",
       "3  SpeedGauge - All Vehicles Daily Group Summary ...    01/01/22 2:14   0.0   \n",
       "4  SpeedGauge - All Vehicles Daily Group Summary ...    01/01/22 2:14   0.0   \n",
       "\n",
       "                                       Email Subject  Age (Hours)  \\\n",
       "0                     Fleet Support case# 00518840 -         51.0   \n",
       "1                     Fleet Support case# 00518840 -         51.0   \n",
       "2                     Fleet Support case# 00518840 -         51.0   \n",
       "3  SpeedGauge - All Vehicles Daily Group Summary ...         51.0   \n",
       "4  SpeedGauge - All Vehicles Daily Group Summary ...         51.0   \n",
       "\n",
       "  Email Status Email Message Date Case Comment Created By      From Name  \\\n",
       "0         Sent      01/01/22 2:14                  System  Fleet Support   \n",
       "1         Sent      01/01/22 2:14                  System  Fleet Support   \n",
       "2         Sent      01/01/22 2:14            Gerard Revaz  Fleet Support   \n",
       "3         Read      01/01/22 2:13                  System            NaN   \n",
       "4         Read      01/01/22 2:13                  System            NaN   \n",
       "\n",
       "   Case Number  \n",
       "0     518840.0  \n",
       "1     518840.0  \n",
       "2     518840.0  \n",
       "3     518840.0  \n",
       "4     518840.0  "
      ]
     },
     "execution_count": 49,
     "metadata": {},
     "output_type": "execute_result"
    }
   ],
   "source": [
    "#-- Load Data\n",
    "#- It turned out that the csv created in mac os is being parsed on a windows machine, I got the UnicodeDecodeError. To get rid of this error, try passing argument encoding='mac-roman' to read_csv method of pandas library.\n",
    "df = pd.read_csv('Jan1_Jun30_2022.csv', encoding='mac_roman')\n",
    "df.head()"
   ]
  },
  {
   "cell_type": "code",
   "execution_count": 50,
   "id": "873b8fda",
   "metadata": {},
   "outputs": [
    {
     "data": {
      "text/plain": [
       "array(['Email', 'Internal', 'PHLY', 'Phone', 'Voicemail', nan,\n",
       "       'Phone: Sales Rep called CC', 'Chat'], dtype=object)"
      ]
     },
     "execution_count": 50,
     "metadata": {},
     "output_type": "execute_result"
    }
   ],
   "source": [
    "df['Case Origin'].unique() "
   ]
  },
  {
   "cell_type": "code",
   "execution_count": 51,
   "id": "8c0230b3",
   "metadata": {},
   "outputs": [
    {
     "data": {
      "text/plain": [
       "(258483, 17)"
      ]
     },
     "execution_count": 51,
     "metadata": {},
     "output_type": "execute_result"
    }
   ],
   "source": [
    "df.shape"
   ]
  },
  {
   "cell_type": "code",
   "execution_count": 52,
   "id": "80f0ebaf",
   "metadata": {},
   "outputs": [
    {
     "data": {
      "text/plain": [
       "Index(['Is Incoming', 'Case Origin', 'Closed', 'From Address', 'Case Owner',\n",
       "       'Case Comments', 'Account Name', 'Subject', 'Date/Time Opened', 'Open',\n",
       "       'Email Subject', 'Age (Hours)', 'Email Status', 'Email Message Date',\n",
       "       'Case Comment Created By', 'From Name', 'Case Number'],\n",
       "      dtype='object')"
      ]
     },
     "execution_count": 52,
     "metadata": {},
     "output_type": "execute_result"
    }
   ],
   "source": [
    "df.columns"
   ]
  },
  {
   "cell_type": "code",
   "execution_count": 53,
   "id": "1a3beb8c",
   "metadata": {},
   "outputs": [
    {
     "data": {
      "text/plain": [
       "(253897, 17)"
      ]
     },
     "execution_count": 53,
     "metadata": {},
     "output_type": "execute_result"
    }
   ],
   "source": [
    "# Remove Records with \"NULL\" Comments\n",
    "df = df.dropna(subset=['Case Comments'])\n",
    "df.shape"
   ]
  },
  {
   "cell_type": "markdown",
   "id": "e5b6121a",
   "metadata": {},
   "source": [
    "---\n",
    "##### 1) Perform Parsing w.r.t. \"Case Origin\"\n",
    "- Not to Consider \"Voicemail\" case origin for now.\n",
    "- 49.67% of Cases are w.r..t \"Email\" case origin.\n",
    "---"
   ]
  },
  {
   "cell_type": "code",
   "execution_count": 54,
   "id": "ce36ea8f",
   "metadata": {},
   "outputs": [
    {
     "data": {
      "text/plain": [
       "(253875, 17)"
      ]
     },
     "execution_count": 54,
     "metadata": {},
     "output_type": "execute_result"
    }
   ],
   "source": [
    "df = df[df['Case Origin'] != 'Voicemail']\n",
    "df.shape"
   ]
  },
  {
   "cell_type": "markdown",
   "id": "775f7808",
   "metadata": {},
   "source": [
    "---\n",
    "##### 2) Perform Parsing w.r.t. **Account Name**\n",
    "- Remove Subject with below patterns\n",
    "  - In String         : Azuga 4G LTE | Azuga Insight | Azuga Internal Account | Azuga Partner Test | Azuga Sales Demo\n",
    "---"
   ]
  },
  {
   "cell_type": "code",
   "execution_count": 55,
   "id": "c75702ac",
   "metadata": {},
   "outputs": [
    {
     "data": {
      "text/plain": [
       "(246974, 17)"
      ]
     },
     "execution_count": 55,
     "metadata": {},
     "output_type": "execute_result"
    }
   ],
   "source": [
    "#Azuga | Azuga 4G LTE | Azuga Insight | Azuga Internal Account | Azuga Partner Test | Azuga Sales Demo\n",
    "#df = df[df['Subject'] != re.search('^Azuga', df['Subject'])]\n",
    "#txt = df['Subject']\n",
    "df0 = df[df['Account Name'].str.contains(r'Azuga 4G LTE',\n",
    "                                         regex=True, na=False) == False]\n",
    "df0 = df0[df0['Account Name'].str.contains(r'Azuga Insight', \n",
    "                                         regex=True, na=False) == False]\n",
    "df0 = df0[df0['Account Name'].str.contains(r'Azuga Internal Account', \n",
    "                                         regex=True, na=False) == False]\n",
    "df0 = df0[df0['Account Name'].str.contains(r'Azuga Partner Test', \n",
    "                                         regex=True, na=False) == False]\n",
    "df0 = df0[df0['Account Name'].str.contains(r'Azuga Sales Demo', \n",
    "                                         regex=True, na=False) == False]\n",
    "df0.shape"
   ]
  },
  {
   "cell_type": "markdown",
   "id": "cbbc1bee",
   "metadata": {},
   "source": [
    "---\n",
    "##### 3) Perform Parsing w.r.t. **\"Subject\"**\n",
    "- Remove Subject with below patterns\n",
    "  - At Start of String: Welcome to Azuga! | Test | Re: Test | [SpeedGauge] | Fwd: Transaction Receipt | KORE Ticket\n",
    "  - In String         : 4803 | 7302 | Case zd:[0-9] | Shipped \n",
    "---"
   ]
  },
  {
   "cell_type": "code",
   "execution_count": 56,
   "id": "a1aecc58",
   "metadata": {},
   "outputs": [
    {
     "data": {
      "text/plain": [
       "(213638, 17)"
      ]
     },
     "execution_count": 56,
     "metadata": {},
     "output_type": "execute_result"
    }
   ],
   "source": [
    "# | Welcome to Azuga! | Test | Testing email | Re: Test | 4803 | 7302 | ??? (Start pattern) | (Case zd: \n",
    "# | [SpeedGauge] Re: | Azuga - Devices Shipped | Azuga - ELD Devices Shipped | Azuga - SafetyCam Kit(s) Shipped \n",
    "# | Devices Shipped for UBI | Fwd: Transaction Receipt | KORE Ticket\n",
    "df1 = df0[df0['Subject'].str.contains(r'^Test', \n",
    "                                         regex=True, na=False) == False]\n",
    "df1 = df1[df1['Subject'].str.contains(r'^Welcome to Azuga!', \n",
    "                                         regex=True, na=False) == False]\n",
    "df1 = df1[df1['Subject'].str.contains(r'^Re: Test', \n",
    "                                         regex=True, na=False) == False]\n",
    "df1 = df1[df1['Subject'].str.contains(r'4803', \n",
    "                                         regex=True, na=False) == False]\n",
    "df1 = df1[df1['Subject'].str.contains(r'7302', \n",
    "                                         regex=True, na=False) == False]\n",
    "df1 = df1[df1['Subject'].str.contains(r'Case zd:[0-9]', \n",
    "                                         regex=True, na=False) == False]\n",
    "df1 = df1[df1['Subject'].str.contains(r'^[SpeedGauge]', \n",
    "                                         regex=True, na=False) == False]\n",
    "df1 = df1[df1['Subject'].str.contains(r'^SpeedGauge', \n",
    "                                         regex=True, na=False) == False]\n",
    "df1 = df1[df1['Subject'].str.contains(r'Shipped', \n",
    "                                         regex=True, na=False) == False]\n",
    "df1 = df1[df1['Subject'].str.contains(r'^Fwd: Transaction Receipt', \n",
    "                                         regex=True, na=False) == False]\n",
    "df1 = df1[df1['Subject'].str.contains(r'^KORE Ticket', \n",
    "                                         regex=True, na=False) == False]\n",
    "\n",
    "df1.shape"
   ]
  },
  {
   "cell_type": "code",
   "execution_count": 57,
   "id": "61c1fa91",
   "metadata": {},
   "outputs": [
    {
     "data": {
      "text/plain": [
       "(45904, 17)"
      ]
     },
     "execution_count": 57,
     "metadata": {},
     "output_type": "execute_result"
    }
   ],
   "source": [
    "#Important Subjects, that can mostly contain Customer Comments\n",
    "#-------\n",
    "#Freshdesk | Feedback Widget | CID: 15870 | Feature Request\n",
    "#Feedback / Complaints \n",
    "dfx = df1[df1['Subject'].str.contains(r'^Freshdesk | Feedback Widget', \n",
    "                                         regex=True, na=False) == True]\n",
    "dfx.shape"
   ]
  },
  {
   "cell_type": "code",
   "execution_count": 58,
   "id": "66dd593d",
   "metadata": {},
   "outputs": [
    {
     "data": {
      "text/plain": [
       "(4936, 17)"
      ]
     },
     "execution_count": 58,
     "metadata": {},
     "output_type": "execute_result"
    }
   ],
   "source": [
    "dfy = df1[df1['Subject'].str.contains(r'^Feedback / Complaints', \n",
    "                                         regex=True, na=False) == True]\n",
    "dfy.shape"
   ]
  },
  {
   "cell_type": "code",
   "execution_count": 59,
   "id": "3db29f09",
   "metadata": {},
   "outputs": [
    {
     "data": {
      "text/html": [
       "<div>\n",
       "<style scoped>\n",
       "    .dataframe tbody tr th:only-of-type {\n",
       "        vertical-align: middle;\n",
       "    }\n",
       "\n",
       "    .dataframe tbody tr th {\n",
       "        vertical-align: top;\n",
       "    }\n",
       "\n",
       "    .dataframe thead th {\n",
       "        text-align: right;\n",
       "    }\n",
       "</style>\n",
       "<table border=\"1\" class=\"dataframe\">\n",
       "  <thead>\n",
       "    <tr style=\"text-align: right;\">\n",
       "      <th></th>\n",
       "      <th>Is Incoming</th>\n",
       "      <th>Case Origin</th>\n",
       "      <th>Closed</th>\n",
       "      <th>From Address</th>\n",
       "      <th>Case Owner</th>\n",
       "      <th>Case Comments</th>\n",
       "      <th>Account Name</th>\n",
       "      <th>Subject</th>\n",
       "      <th>Date/Time Opened</th>\n",
       "      <th>Open</th>\n",
       "      <th>Email Subject</th>\n",
       "      <th>Age (Hours)</th>\n",
       "      <th>Email Status</th>\n",
       "      <th>Email Message Date</th>\n",
       "      <th>Case Comment Created By</th>\n",
       "      <th>From Name</th>\n",
       "      <th>Case Number</th>\n",
       "    </tr>\n",
       "  </thead>\n",
       "  <tbody>\n",
       "    <tr>\n",
       "      <th>81</th>\n",
       "      <td>0</td>\n",
       "      <td>Email</td>\n",
       "      <td>1.0</td>\n",
       "      <td>customercare@azuga.com</td>\n",
       "      <td>Santiago Urbizu</td>\n",
       "      <td>Hi Jason,\\n \\n Trust you're doing good,\\n \\n P...</td>\n",
       "      <td>United Private Car, Inc.</td>\n",
       "      <td>Freshdesk | Feedback Widget | CID: 15700 | SOM...</td>\n",
       "      <td>01/02/22 10:09</td>\n",
       "      <td>0.0</td>\n",
       "      <td>Freshdesk | Feedback Widget | CID: 15700 | SOM...</td>\n",
       "      <td>217.0</td>\n",
       "      <td>Replied</td>\n",
       "      <td>01/06/22 19:19</td>\n",
       "      <td>Santiago Urbizu</td>\n",
       "      <td>Fleet Support</td>\n",
       "      <td>518858.0</td>\n",
       "    </tr>\n",
       "    <tr>\n",
       "      <th>82</th>\n",
       "      <td>0</td>\n",
       "      <td>Email</td>\n",
       "      <td>1.0</td>\n",
       "      <td>info@azuga.com</td>\n",
       "      <td>Santiago Urbizu</td>\n",
       "      <td>Hi Jason,\\n \\n Trust you're doing good,\\n \\n P...</td>\n",
       "      <td>United Private Car, Inc.</td>\n",
       "      <td>Freshdesk | Feedback Widget | CID: 15700 | SOM...</td>\n",
       "      <td>01/02/22 10:09</td>\n",
       "      <td>0.0</td>\n",
       "      <td>Fleet Support case# 00518858 -</td>\n",
       "      <td>217.0</td>\n",
       "      <td>Sent</td>\n",
       "      <td>01/02/22 10:10</td>\n",
       "      <td>Santiago Urbizu</td>\n",
       "      <td>Fleet Support</td>\n",
       "      <td>518858.0</td>\n",
       "    </tr>\n",
       "    <tr>\n",
       "      <th>83</th>\n",
       "      <td>0</td>\n",
       "      <td>Email</td>\n",
       "      <td>1.0</td>\n",
       "      <td>customercare@azuga.com</td>\n",
       "      <td>Santiago Urbizu</td>\n",
       "      <td>Called back again customer told that the issue...</td>\n",
       "      <td>United Private Car, Inc.</td>\n",
       "      <td>Freshdesk | Feedback Widget | CID: 15700 | SOM...</td>\n",
       "      <td>01/02/22 10:09</td>\n",
       "      <td>0.0</td>\n",
       "      <td>Freshdesk | Feedback Widget | CID: 15700 | SOM...</td>\n",
       "      <td>217.0</td>\n",
       "      <td>Replied</td>\n",
       "      <td>01/06/22 19:19</td>\n",
       "      <td>Santiago Urbizu</td>\n",
       "      <td>Fleet Support</td>\n",
       "      <td>518858.0</td>\n",
       "    </tr>\n",
       "    <tr>\n",
       "      <th>84</th>\n",
       "      <td>0</td>\n",
       "      <td>Email</td>\n",
       "      <td>1.0</td>\n",
       "      <td>info@azuga.com</td>\n",
       "      <td>Santiago Urbizu</td>\n",
       "      <td>Called back again customer told that the issue...</td>\n",
       "      <td>United Private Car, Inc.</td>\n",
       "      <td>Freshdesk | Feedback Widget | CID: 15700 | SOM...</td>\n",
       "      <td>01/02/22 10:09</td>\n",
       "      <td>0.0</td>\n",
       "      <td>Fleet Support case# 00518858 -</td>\n",
       "      <td>217.0</td>\n",
       "      <td>Sent</td>\n",
       "      <td>01/02/22 10:10</td>\n",
       "      <td>Santiago Urbizu</td>\n",
       "      <td>Fleet Support</td>\n",
       "      <td>518858.0</td>\n",
       "    </tr>\n",
       "    <tr>\n",
       "      <th>85</th>\n",
       "      <td>0</td>\n",
       "      <td>Email</td>\n",
       "      <td>1.0</td>\n",
       "      <td>customercare@azuga.com</td>\n",
       "      <td>Santiago Urbizu</td>\n",
       "      <td>Hi Jason,\\n \\n Trust you're doing good,\\n \\n I...</td>\n",
       "      <td>United Private Car, Inc.</td>\n",
       "      <td>Freshdesk | Feedback Widget | CID: 15700 | SOM...</td>\n",
       "      <td>01/02/22 10:09</td>\n",
       "      <td>0.0</td>\n",
       "      <td>Freshdesk | Feedback Widget | CID: 15700 | SOM...</td>\n",
       "      <td>217.0</td>\n",
       "      <td>Replied</td>\n",
       "      <td>01/06/22 19:19</td>\n",
       "      <td>Santiago Urbizu</td>\n",
       "      <td>Fleet Support</td>\n",
       "      <td>518858.0</td>\n",
       "    </tr>\n",
       "    <tr>\n",
       "      <th>86</th>\n",
       "      <td>0</td>\n",
       "      <td>Email</td>\n",
       "      <td>1.0</td>\n",
       "      <td>info@azuga.com</td>\n",
       "      <td>Santiago Urbizu</td>\n",
       "      <td>Hi Jason,\\n \\n Trust you're doing good,\\n \\n I...</td>\n",
       "      <td>United Private Car, Inc.</td>\n",
       "      <td>Freshdesk | Feedback Widget | CID: 15700 | SOM...</td>\n",
       "      <td>01/02/22 10:09</td>\n",
       "      <td>0.0</td>\n",
       "      <td>Fleet Support case# 00518858 -</td>\n",
       "      <td>217.0</td>\n",
       "      <td>Sent</td>\n",
       "      <td>01/02/22 10:10</td>\n",
       "      <td>Santiago Urbizu</td>\n",
       "      <td>Fleet Support</td>\n",
       "      <td>518858.0</td>\n",
       "    </tr>\n",
       "    <tr>\n",
       "      <th>87</th>\n",
       "      <td>0</td>\n",
       "      <td>Email</td>\n",
       "      <td>1.0</td>\n",
       "      <td>customercare@azuga.com</td>\n",
       "      <td>Santiago Urbizu</td>\n",
       "      <td>Hi Jason,\\n \\n Trust you're doing good,\\n \\n P...</td>\n",
       "      <td>United Private Car, Inc.</td>\n",
       "      <td>Freshdesk | Feedback Widget | CID: 15700 | SOM...</td>\n",
       "      <td>01/02/22 10:09</td>\n",
       "      <td>0.0</td>\n",
       "      <td>Freshdesk | Feedback Widget | CID: 15700 | SOM...</td>\n",
       "      <td>217.0</td>\n",
       "      <td>Replied</td>\n",
       "      <td>01/06/22 19:19</td>\n",
       "      <td>Santiago Urbizu</td>\n",
       "      <td>Fleet Support</td>\n",
       "      <td>518858.0</td>\n",
       "    </tr>\n",
       "    <tr>\n",
       "      <th>88</th>\n",
       "      <td>0</td>\n",
       "      <td>Email</td>\n",
       "      <td>1.0</td>\n",
       "      <td>info@azuga.com</td>\n",
       "      <td>Santiago Urbizu</td>\n",
       "      <td>Hi Jason,\\n \\n Trust you're doing good,\\n \\n P...</td>\n",
       "      <td>United Private Car, Inc.</td>\n",
       "      <td>Freshdesk | Feedback Widget | CID: 15700 | SOM...</td>\n",
       "      <td>01/02/22 10:09</td>\n",
       "      <td>0.0</td>\n",
       "      <td>Fleet Support case# 00518858 -</td>\n",
       "      <td>217.0</td>\n",
       "      <td>Sent</td>\n",
       "      <td>01/02/22 10:10</td>\n",
       "      <td>Santiago Urbizu</td>\n",
       "      <td>Fleet Support</td>\n",
       "      <td>518858.0</td>\n",
       "    </tr>\n",
       "    <tr>\n",
       "      <th>89</th>\n",
       "      <td>0</td>\n",
       "      <td>Email</td>\n",
       "      <td>1.0</td>\n",
       "      <td>customercare@azuga.com</td>\n",
       "      <td>Santiago Urbizu</td>\n",
       "      <td>Called back the customer on (617) 782-0055 \\n ...</td>\n",
       "      <td>United Private Car, Inc.</td>\n",
       "      <td>Freshdesk | Feedback Widget | CID: 15700 | SOM...</td>\n",
       "      <td>01/02/22 10:09</td>\n",
       "      <td>0.0</td>\n",
       "      <td>Freshdesk | Feedback Widget | CID: 15700 | SOM...</td>\n",
       "      <td>217.0</td>\n",
       "      <td>Replied</td>\n",
       "      <td>01/06/22 19:19</td>\n",
       "      <td>Santiago Urbizu</td>\n",
       "      <td>Fleet Support</td>\n",
       "      <td>518858.0</td>\n",
       "    </tr>\n",
       "    <tr>\n",
       "      <th>90</th>\n",
       "      <td>0</td>\n",
       "      <td>Email</td>\n",
       "      <td>1.0</td>\n",
       "      <td>info@azuga.com</td>\n",
       "      <td>Santiago Urbizu</td>\n",
       "      <td>Called back the customer on (617) 782-0055 \\n ...</td>\n",
       "      <td>United Private Car, Inc.</td>\n",
       "      <td>Freshdesk | Feedback Widget | CID: 15700 | SOM...</td>\n",
       "      <td>01/02/22 10:09</td>\n",
       "      <td>0.0</td>\n",
       "      <td>Fleet Support case# 00518858 -</td>\n",
       "      <td>217.0</td>\n",
       "      <td>Sent</td>\n",
       "      <td>01/02/22 10:10</td>\n",
       "      <td>Santiago Urbizu</td>\n",
       "      <td>Fleet Support</td>\n",
       "      <td>518858.0</td>\n",
       "    </tr>\n",
       "  </tbody>\n",
       "</table>\n",
       "</div>"
      ],
      "text/plain": [
       "   Is Incoming Case Origin  Closed            From Address       Case Owner  \\\n",
       "81           0       Email     1.0  customercare@azuga.com  Santiago Urbizu   \n",
       "82           0       Email     1.0          info@azuga.com  Santiago Urbizu   \n",
       "83           0       Email     1.0  customercare@azuga.com  Santiago Urbizu   \n",
       "84           0       Email     1.0          info@azuga.com  Santiago Urbizu   \n",
       "85           0       Email     1.0  customercare@azuga.com  Santiago Urbizu   \n",
       "86           0       Email     1.0          info@azuga.com  Santiago Urbizu   \n",
       "87           0       Email     1.0  customercare@azuga.com  Santiago Urbizu   \n",
       "88           0       Email     1.0          info@azuga.com  Santiago Urbizu   \n",
       "89           0       Email     1.0  customercare@azuga.com  Santiago Urbizu   \n",
       "90           0       Email     1.0          info@azuga.com  Santiago Urbizu   \n",
       "\n",
       "                                        Case Comments  \\\n",
       "81  Hi Jason,\\n \\n Trust you're doing good,\\n \\n P...   \n",
       "82  Hi Jason,\\n \\n Trust you're doing good,\\n \\n P...   \n",
       "83  Called back again customer told that the issue...   \n",
       "84  Called back again customer told that the issue...   \n",
       "85  Hi Jason,\\n \\n Trust you're doing good,\\n \\n I...   \n",
       "86  Hi Jason,\\n \\n Trust you're doing good,\\n \\n I...   \n",
       "87  Hi Jason,\\n \\n Trust you're doing good,\\n \\n P...   \n",
       "88  Hi Jason,\\n \\n Trust you're doing good,\\n \\n P...   \n",
       "89  Called back the customer on (617) 782-0055 \\n ...   \n",
       "90  Called back the customer on (617) 782-0055 \\n ...   \n",
       "\n",
       "                Account Name  \\\n",
       "81  United Private Car, Inc.   \n",
       "82  United Private Car, Inc.   \n",
       "83  United Private Car, Inc.   \n",
       "84  United Private Car, Inc.   \n",
       "85  United Private Car, Inc.   \n",
       "86  United Private Car, Inc.   \n",
       "87  United Private Car, Inc.   \n",
       "88  United Private Car, Inc.   \n",
       "89  United Private Car, Inc.   \n",
       "90  United Private Car, Inc.   \n",
       "\n",
       "                                              Subject Date/Time Opened  Open  \\\n",
       "81  Freshdesk | Feedback Widget | CID: 15700 | SOM...   01/02/22 10:09   0.0   \n",
       "82  Freshdesk | Feedback Widget | CID: 15700 | SOM...   01/02/22 10:09   0.0   \n",
       "83  Freshdesk | Feedback Widget | CID: 15700 | SOM...   01/02/22 10:09   0.0   \n",
       "84  Freshdesk | Feedback Widget | CID: 15700 | SOM...   01/02/22 10:09   0.0   \n",
       "85  Freshdesk | Feedback Widget | CID: 15700 | SOM...   01/02/22 10:09   0.0   \n",
       "86  Freshdesk | Feedback Widget | CID: 15700 | SOM...   01/02/22 10:09   0.0   \n",
       "87  Freshdesk | Feedback Widget | CID: 15700 | SOM...   01/02/22 10:09   0.0   \n",
       "88  Freshdesk | Feedback Widget | CID: 15700 | SOM...   01/02/22 10:09   0.0   \n",
       "89  Freshdesk | Feedback Widget | CID: 15700 | SOM...   01/02/22 10:09   0.0   \n",
       "90  Freshdesk | Feedback Widget | CID: 15700 | SOM...   01/02/22 10:09   0.0   \n",
       "\n",
       "                                        Email Subject  Age (Hours)  \\\n",
       "81  Freshdesk | Feedback Widget | CID: 15700 | SOM...        217.0   \n",
       "82                     Fleet Support case# 00518858 -        217.0   \n",
       "83  Freshdesk | Feedback Widget | CID: 15700 | SOM...        217.0   \n",
       "84                     Fleet Support case# 00518858 -        217.0   \n",
       "85  Freshdesk | Feedback Widget | CID: 15700 | SOM...        217.0   \n",
       "86                     Fleet Support case# 00518858 -        217.0   \n",
       "87  Freshdesk | Feedback Widget | CID: 15700 | SOM...        217.0   \n",
       "88                     Fleet Support case# 00518858 -        217.0   \n",
       "89  Freshdesk | Feedback Widget | CID: 15700 | SOM...        217.0   \n",
       "90                     Fleet Support case# 00518858 -        217.0   \n",
       "\n",
       "   Email Status Email Message Date Case Comment Created By      From Name  \\\n",
       "81      Replied     01/06/22 19:19         Santiago Urbizu  Fleet Support   \n",
       "82         Sent     01/02/22 10:10         Santiago Urbizu  Fleet Support   \n",
       "83      Replied     01/06/22 19:19         Santiago Urbizu  Fleet Support   \n",
       "84         Sent     01/02/22 10:10         Santiago Urbizu  Fleet Support   \n",
       "85      Replied     01/06/22 19:19         Santiago Urbizu  Fleet Support   \n",
       "86         Sent     01/02/22 10:10         Santiago Urbizu  Fleet Support   \n",
       "87      Replied     01/06/22 19:19         Santiago Urbizu  Fleet Support   \n",
       "88         Sent     01/02/22 10:10         Santiago Urbizu  Fleet Support   \n",
       "89      Replied     01/06/22 19:19         Santiago Urbizu  Fleet Support   \n",
       "90         Sent     01/02/22 10:10         Santiago Urbizu  Fleet Support   \n",
       "\n",
       "    Case Number  \n",
       "81     518858.0  \n",
       "82     518858.0  \n",
       "83     518858.0  \n",
       "84     518858.0  \n",
       "85     518858.0  \n",
       "86     518858.0  \n",
       "87     518858.0  \n",
       "88     518858.0  \n",
       "89     518858.0  \n",
       "90     518858.0  "
      ]
     },
     "execution_count": 59,
     "metadata": {},
     "output_type": "execute_result"
    }
   ],
   "source": [
    "dfx.head(10)"
   ]
  },
  {
   "cell_type": "code",
   "execution_count": 17,
   "id": "29667049",
   "metadata": {},
   "outputs": [],
   "source": [
    "# Try doing Regex EDA on this - focuss\n",
    "#dfx.to_csv(r'Feedback_Processed.csv', index = False)"
   ]
  },
  {
   "cell_type": "code",
   "execution_count": 18,
   "id": "2ffcfa86",
   "metadata": {},
   "outputs": [],
   "source": [
    "# Try doing Regex EDA on this\n",
    "#dfy.to_csv(r'Feedback_Complaints.csv', index=False)"
   ]
  },
  {
   "cell_type": "code",
   "execution_count": 60,
   "id": "f700510b",
   "metadata": {},
   "outputs": [
    {
     "data": {
      "text/html": [
       "<div>\n",
       "<style scoped>\n",
       "    .dataframe tbody tr th:only-of-type {\n",
       "        vertical-align: middle;\n",
       "    }\n",
       "\n",
       "    .dataframe tbody tr th {\n",
       "        vertical-align: top;\n",
       "    }\n",
       "\n",
       "    .dataframe thead th {\n",
       "        text-align: right;\n",
       "    }\n",
       "</style>\n",
       "<table border=\"1\" class=\"dataframe\">\n",
       "  <thead>\n",
       "    <tr style=\"text-align: right;\">\n",
       "      <th></th>\n",
       "      <th>Is Incoming</th>\n",
       "      <th>Case Origin</th>\n",
       "      <th>Closed</th>\n",
       "      <th>From Address</th>\n",
       "      <th>Case Owner</th>\n",
       "      <th>Case Comments</th>\n",
       "      <th>Account Name</th>\n",
       "      <th>Subject</th>\n",
       "      <th>Date/Time Opened</th>\n",
       "      <th>Open</th>\n",
       "      <th>Email Subject</th>\n",
       "      <th>Age (Hours)</th>\n",
       "      <th>Email Status</th>\n",
       "      <th>Email Message Date</th>\n",
       "      <th>Case Comment Created By</th>\n",
       "      <th>From Name</th>\n",
       "      <th>Case Number</th>\n",
       "    </tr>\n",
       "  </thead>\n",
       "  <tbody>\n",
       "    <tr>\n",
       "      <th>18</th>\n",
       "      <td>0</td>\n",
       "      <td>Email</td>\n",
       "      <td>1.0</td>\n",
       "      <td>info@azuga.com</td>\n",
       "      <td>Gerard Revaz</td>\n",
       "      <td>Email from the client: \\n\\n---------- Forwarde...</td>\n",
       "      <td>Ecotech Hydro Excavation Inc.</td>\n",
       "      <td>Help with 4G Swap</td>\n",
       "      <td>01/01/22 9:43</td>\n",
       "      <td>0.0</td>\n",
       "      <td>Fleet Support case# 00518845 -</td>\n",
       "      <td>60.0</td>\n",
       "      <td>Sent</td>\n",
       "      <td>01/01/22 9:43</td>\n",
       "      <td>Gerard Revaz</td>\n",
       "      <td>Fleet Support</td>\n",
       "      <td>518845.0</td>\n",
       "    </tr>\n",
       "    <tr>\n",
       "      <th>19</th>\n",
       "      <td>0</td>\n",
       "      <td>Email</td>\n",
       "      <td>1.0</td>\n",
       "      <td>info@azuga.com</td>\n",
       "      <td>Gerard Revaz</td>\n",
       "      <td>Good Morning Team,\\n\\nPlease reach out to Blak...</td>\n",
       "      <td>Ecotech Hydro Excavation Inc.</td>\n",
       "      <td>Help with 4G Swap</td>\n",
       "      <td>01/01/22 9:43</td>\n",
       "      <td>0.0</td>\n",
       "      <td>Fleet Support case# 00518845 -</td>\n",
       "      <td>60.0</td>\n",
       "      <td>Sent</td>\n",
       "      <td>01/01/22 9:43</td>\n",
       "      <td>System</td>\n",
       "      <td>Fleet Support</td>\n",
       "      <td>518845.0</td>\n",
       "    </tr>\n",
       "    <tr>\n",
       "      <th>20</th>\n",
       "      <td>0</td>\n",
       "      <td>Email</td>\n",
       "      <td>1.0</td>\n",
       "      <td>info@azuga.com</td>\n",
       "      <td>Gerard Revaz</td>\n",
       "      <td>Hi ,\\n\\nThank you for contacting Azuga Custome...</td>\n",
       "      <td>Ecotech Hydro Excavation Inc.</td>\n",
       "      <td>Help with 4G Swap</td>\n",
       "      <td>01/01/22 9:43</td>\n",
       "      <td>0.0</td>\n",
       "      <td>Fleet Support case# 00518845 -</td>\n",
       "      <td>60.0</td>\n",
       "      <td>Sent</td>\n",
       "      <td>01/01/22 9:43</td>\n",
       "      <td>System</td>\n",
       "      <td>Fleet Support</td>\n",
       "      <td>518845.0</td>\n",
       "    </tr>\n",
       "    <tr>\n",
       "      <th>21</th>\n",
       "      <td>0</td>\n",
       "      <td>Email</td>\n",
       "      <td>1.0</td>\n",
       "      <td>info@azuga.com</td>\n",
       "      <td>Gerard Revaz</td>\n",
       "      <td>Note: \\n\\nTagging this case as a duplicate of ...</td>\n",
       "      <td>Ecotech Hydro Excavation Inc.</td>\n",
       "      <td>Help with 4G Swap</td>\n",
       "      <td>01/01/22 9:43</td>\n",
       "      <td>0.0</td>\n",
       "      <td>Fleet Support case# 00518845 -</td>\n",
       "      <td>60.0</td>\n",
       "      <td>Sent</td>\n",
       "      <td>01/01/22 9:43</td>\n",
       "      <td>Gerard Revaz</td>\n",
       "      <td>Fleet Support</td>\n",
       "      <td>518845.0</td>\n",
       "    </tr>\n",
       "    <tr>\n",
       "      <th>22</th>\n",
       "      <td>1</td>\n",
       "      <td>Email</td>\n",
       "      <td>1.0</td>\n",
       "      <td>hunterb@azuga.com</td>\n",
       "      <td>Gerard Revaz</td>\n",
       "      <td>Email from the client: \\n\\n---------- Forwarde...</td>\n",
       "      <td>Ecotech Hydro Excavation Inc.</td>\n",
       "      <td>Help with 4G Swap</td>\n",
       "      <td>01/01/22 9:43</td>\n",
       "      <td>0.0</td>\n",
       "      <td>Help with 4G Swap</td>\n",
       "      <td>60.0</td>\n",
       "      <td>Read</td>\n",
       "      <td>01/01/22 9:42</td>\n",
       "      <td>Gerard Revaz</td>\n",
       "      <td>Hunter Boggs</td>\n",
       "      <td>518845.0</td>\n",
       "    </tr>\n",
       "    <tr>\n",
       "      <th>23</th>\n",
       "      <td>1</td>\n",
       "      <td>Email</td>\n",
       "      <td>1.0</td>\n",
       "      <td>hunterb@azuga.com</td>\n",
       "      <td>Gerard Revaz</td>\n",
       "      <td>Good Morning Team,\\n\\nPlease reach out to Blak...</td>\n",
       "      <td>Ecotech Hydro Excavation Inc.</td>\n",
       "      <td>Help with 4G Swap</td>\n",
       "      <td>01/01/22 9:43</td>\n",
       "      <td>0.0</td>\n",
       "      <td>Help with 4G Swap</td>\n",
       "      <td>60.0</td>\n",
       "      <td>Read</td>\n",
       "      <td>01/01/22 9:42</td>\n",
       "      <td>System</td>\n",
       "      <td>Hunter Boggs</td>\n",
       "      <td>518845.0</td>\n",
       "    </tr>\n",
       "    <tr>\n",
       "      <th>24</th>\n",
       "      <td>1</td>\n",
       "      <td>Email</td>\n",
       "      <td>1.0</td>\n",
       "      <td>hunterb@azuga.com</td>\n",
       "      <td>Gerard Revaz</td>\n",
       "      <td>Hi ,\\n\\nThank you for contacting Azuga Custome...</td>\n",
       "      <td>Ecotech Hydro Excavation Inc.</td>\n",
       "      <td>Help with 4G Swap</td>\n",
       "      <td>01/01/22 9:43</td>\n",
       "      <td>0.0</td>\n",
       "      <td>Help with 4G Swap</td>\n",
       "      <td>60.0</td>\n",
       "      <td>Read</td>\n",
       "      <td>01/01/22 9:42</td>\n",
       "      <td>System</td>\n",
       "      <td>Hunter Boggs</td>\n",
       "      <td>518845.0</td>\n",
       "    </tr>\n",
       "    <tr>\n",
       "      <th>25</th>\n",
       "      <td>1</td>\n",
       "      <td>Email</td>\n",
       "      <td>1.0</td>\n",
       "      <td>hunterb@azuga.com</td>\n",
       "      <td>Gerard Revaz</td>\n",
       "      <td>Note: \\n\\nTagging this case as a duplicate of ...</td>\n",
       "      <td>Ecotech Hydro Excavation Inc.</td>\n",
       "      <td>Help with 4G Swap</td>\n",
       "      <td>01/01/22 9:43</td>\n",
       "      <td>0.0</td>\n",
       "      <td>Help with 4G Swap</td>\n",
       "      <td>60.0</td>\n",
       "      <td>Read</td>\n",
       "      <td>01/01/22 9:42</td>\n",
       "      <td>Gerard Revaz</td>\n",
       "      <td>Hunter Boggs</td>\n",
       "      <td>518845.0</td>\n",
       "    </tr>\n",
       "    <tr>\n",
       "      <th>26</th>\n",
       "      <td>0</td>\n",
       "      <td>Email</td>\n",
       "      <td>1.0</td>\n",
       "      <td>info@azuga.com</td>\n",
       "      <td>Gerard Revaz</td>\n",
       "      <td>Email sent to the customer: \\n\\n---------- For...</td>\n",
       "      <td>Ecotech Hydro Excavation Inc.</td>\n",
       "      <td>RE: Help with 4G Swap</td>\n",
       "      <td>01/01/22 10:21</td>\n",
       "      <td>0.0</td>\n",
       "      <td>Fleet Support case# 00518846 - Ecotech Hydro E...</td>\n",
       "      <td>87.0</td>\n",
       "      <td>Sent</td>\n",
       "      <td>01/01/22 10:21</td>\n",
       "      <td>Gerard Revaz</td>\n",
       "      <td>Fleet Support</td>\n",
       "      <td>518846.0</td>\n",
       "    </tr>\n",
       "    <tr>\n",
       "      <th>27</th>\n",
       "      <td>0</td>\n",
       "      <td>Email</td>\n",
       "      <td>1.0</td>\n",
       "      <td>info@azuga.com</td>\n",
       "      <td>Gerard Revaz</td>\n",
       "      <td>Case Closure Note: \\n\\n4G Swap team is taking ...</td>\n",
       "      <td>Ecotech Hydro Excavation Inc.</td>\n",
       "      <td>RE: Help with 4G Swap</td>\n",
       "      <td>01/01/22 10:21</td>\n",
       "      <td>0.0</td>\n",
       "      <td>Fleet Support case# 00518846 - Ecotech Hydro E...</td>\n",
       "      <td>87.0</td>\n",
       "      <td>Sent</td>\n",
       "      <td>01/01/22 10:21</td>\n",
       "      <td>Gerard Revaz</td>\n",
       "      <td>Fleet Support</td>\n",
       "      <td>518846.0</td>\n",
       "    </tr>\n",
       "  </tbody>\n",
       "</table>\n",
       "</div>"
      ],
      "text/plain": [
       "   Is Incoming Case Origin  Closed       From Address    Case Owner  \\\n",
       "18           0       Email     1.0     info@azuga.com  Gerard Revaz   \n",
       "19           0       Email     1.0     info@azuga.com  Gerard Revaz   \n",
       "20           0       Email     1.0     info@azuga.com  Gerard Revaz   \n",
       "21           0       Email     1.0     info@azuga.com  Gerard Revaz   \n",
       "22           1       Email     1.0  hunterb@azuga.com  Gerard Revaz   \n",
       "23           1       Email     1.0  hunterb@azuga.com  Gerard Revaz   \n",
       "24           1       Email     1.0  hunterb@azuga.com  Gerard Revaz   \n",
       "25           1       Email     1.0  hunterb@azuga.com  Gerard Revaz   \n",
       "26           0       Email     1.0     info@azuga.com  Gerard Revaz   \n",
       "27           0       Email     1.0     info@azuga.com  Gerard Revaz   \n",
       "\n",
       "                                        Case Comments  \\\n",
       "18  Email from the client: \\n\\n---------- Forwarde...   \n",
       "19  Good Morning Team,\\n\\nPlease reach out to Blak...   \n",
       "20  Hi ,\\n\\nThank you for contacting Azuga Custome...   \n",
       "21  Note: \\n\\nTagging this case as a duplicate of ...   \n",
       "22  Email from the client: \\n\\n---------- Forwarde...   \n",
       "23  Good Morning Team,\\n\\nPlease reach out to Blak...   \n",
       "24  Hi ,\\n\\nThank you for contacting Azuga Custome...   \n",
       "25  Note: \\n\\nTagging this case as a duplicate of ...   \n",
       "26  Email sent to the customer: \\n\\n---------- For...   \n",
       "27  Case Closure Note: \\n\\n4G Swap team is taking ...   \n",
       "\n",
       "                     Account Name                Subject Date/Time Opened  \\\n",
       "18  Ecotech Hydro Excavation Inc.      Help with 4G Swap    01/01/22 9:43   \n",
       "19  Ecotech Hydro Excavation Inc.      Help with 4G Swap    01/01/22 9:43   \n",
       "20  Ecotech Hydro Excavation Inc.      Help with 4G Swap    01/01/22 9:43   \n",
       "21  Ecotech Hydro Excavation Inc.      Help with 4G Swap    01/01/22 9:43   \n",
       "22  Ecotech Hydro Excavation Inc.      Help with 4G Swap    01/01/22 9:43   \n",
       "23  Ecotech Hydro Excavation Inc.      Help with 4G Swap    01/01/22 9:43   \n",
       "24  Ecotech Hydro Excavation Inc.      Help with 4G Swap    01/01/22 9:43   \n",
       "25  Ecotech Hydro Excavation Inc.      Help with 4G Swap    01/01/22 9:43   \n",
       "26  Ecotech Hydro Excavation Inc.  RE: Help with 4G Swap   01/01/22 10:21   \n",
       "27  Ecotech Hydro Excavation Inc.  RE: Help with 4G Swap   01/01/22 10:21   \n",
       "\n",
       "    Open                                      Email Subject  Age (Hours)  \\\n",
       "18   0.0                     Fleet Support case# 00518845 -         60.0   \n",
       "19   0.0                     Fleet Support case# 00518845 -         60.0   \n",
       "20   0.0                     Fleet Support case# 00518845 -         60.0   \n",
       "21   0.0                     Fleet Support case# 00518845 -         60.0   \n",
       "22   0.0                                  Help with 4G Swap         60.0   \n",
       "23   0.0                                  Help with 4G Swap         60.0   \n",
       "24   0.0                                  Help with 4G Swap         60.0   \n",
       "25   0.0                                  Help with 4G Swap         60.0   \n",
       "26   0.0  Fleet Support case# 00518846 - Ecotech Hydro E...         87.0   \n",
       "27   0.0  Fleet Support case# 00518846 - Ecotech Hydro E...         87.0   \n",
       "\n",
       "   Email Status Email Message Date Case Comment Created By      From Name  \\\n",
       "18         Sent      01/01/22 9:43            Gerard Revaz  Fleet Support   \n",
       "19         Sent      01/01/22 9:43                  System  Fleet Support   \n",
       "20         Sent      01/01/22 9:43                  System  Fleet Support   \n",
       "21         Sent      01/01/22 9:43            Gerard Revaz  Fleet Support   \n",
       "22         Read      01/01/22 9:42            Gerard Revaz   Hunter Boggs   \n",
       "23         Read      01/01/22 9:42                  System   Hunter Boggs   \n",
       "24         Read      01/01/22 9:42                  System   Hunter Boggs   \n",
       "25         Read      01/01/22 9:42            Gerard Revaz   Hunter Boggs   \n",
       "26         Sent     01/01/22 10:21            Gerard Revaz  Fleet Support   \n",
       "27         Sent     01/01/22 10:21            Gerard Revaz  Fleet Support   \n",
       "\n",
       "    Case Number  \n",
       "18     518845.0  \n",
       "19     518845.0  \n",
       "20     518845.0  \n",
       "21     518845.0  \n",
       "22     518845.0  \n",
       "23     518845.0  \n",
       "24     518845.0  \n",
       "25     518845.0  \n",
       "26     518846.0  \n",
       "27     518846.0  "
      ]
     },
     "execution_count": 60,
     "metadata": {},
     "output_type": "execute_result"
    }
   ],
   "source": [
    "df1.head(10)"
   ]
  },
  {
   "cell_type": "code",
   "execution_count": 61,
   "id": "f651f2d3",
   "metadata": {},
   "outputs": [],
   "source": [
    "#df1.to_csv(r'Jan_Jun_2022_Processed.csv', index = False)"
   ]
  },
  {
   "cell_type": "code",
   "execution_count": 62,
   "id": "f7d7cb29",
   "metadata": {},
   "outputs": [
    {
     "data": {
      "text/plain": [
       "0.826506965641841"
      ]
     },
     "execution_count": 62,
     "metadata": {},
     "output_type": "execute_result"
    }
   ],
   "source": [
    "213638/258483"
   ]
  },
  {
   "cell_type": "markdown",
   "id": "9c10ccaa",
   "metadata": {},
   "source": [
    "##### Conclusion-1: \n",
    "- Able to Parse out **17.36%** of Total unwanted records, by using logic w.r.t. **\"Subject\" / \"Account Name\" / \"Case Origin\"**.\n",
    "- 16 Parsing points in total, till now w.r.t. the Entire Dataset.\n",
    "\n",
    "- Now let's focuss on **Parsing out the Customer Comments**\n",
    "---\n",
    "---\n"
   ]
  },
  {
   "cell_type": "markdown",
   "id": "fd967065",
   "metadata": {},
   "source": [
    "#### 4) Parsing w.r.t. \"Comments\"\n",
    "---"
   ]
  },
  {
   "cell_type": "code",
   "execution_count": 91,
   "id": "1942d4e5",
   "metadata": {},
   "outputs": [
    {
     "name": "stdout",
     "output_type": "stream",
     "text": [
      "                                            Case Comments\n",
      "0       Email from the client: \\n\\n---------- Forwarde...\n",
      "1       Good Morning Team,\\n\\nPlease reach out to Blak...\n",
      "2       Hi ,\\n\\nThank you for contacting Azuga Custome...\n",
      "3       Note: \\n\\nTagging this case as a duplicate of ...\n",
      "4       Email from the client: \\n\\n---------- Forwarde...\n",
      "...                                                   ...\n",
      "213633       Closing the case as not  related to  support\n",
      "213634  Dear Azuga -\\n\\nCan you please verify that I a...\n",
      "213635  Greetings,\\n\\nThanks for your email.\\n\\nYour r...\n",
      "213636  Dear Azuga -\\n\\nCan you please verify that I a...\n",
      "213637  Greetings,\\n\\nThanks for your email.\\n\\nYour r...\n",
      "\n",
      "[213638 rows x 1 columns]\n"
     ]
    }
   ],
   "source": [
    "cmts = pd.DataFrame(df1['Case Comments']) \n",
    "cmts = cmts.reset_index(drop=True) #- Reset the Index values\n",
    "print(cmts)"
   ]
  },
  {
   "cell_type": "markdown",
   "id": "5e9186c5",
   "metadata": {},
   "source": [
    "---\n",
    "#### Part-1 :\n",
    "- Parsing only \"Subject\", starting from **---------- Forwarded message ---------**\n",
    "    - This isn't that helpful, as of now\n",
    "---"
   ]
  },
  {
   "cell_type": "code",
   "execution_count": 92,
   "id": "10d5c657",
   "metadata": {},
   "outputs": [
    {
     "data": {
      "text/plain": [
       "(20318, 1)"
      ]
     },
     "execution_count": 92,
     "metadata": {},
     "output_type": "execute_result"
    }
   ],
   "source": [
    "## Parsing Based on \"---------- Forwarded message ---------\"\n",
    "com1 =  cmts[cmts['Case Comments'].str.contains(r'---------- Forwarded message ---------', \n",
    "                                         regex=True, na=False) == True]\n",
    "com1 = com1.reset_index(drop=True)                                         \n",
    "com1.shape"
   ]
  },
  {
   "cell_type": "code",
   "execution_count": 93,
   "id": "9f2bdec7",
   "metadata": {},
   "outputs": [
    {
     "data": {
      "text/html": [
       "<div>\n",
       "<style scoped>\n",
       "    .dataframe tbody tr th:only-of-type {\n",
       "        vertical-align: middle;\n",
       "    }\n",
       "\n",
       "    .dataframe tbody tr th {\n",
       "        vertical-align: top;\n",
       "    }\n",
       "\n",
       "    .dataframe thead th {\n",
       "        text-align: right;\n",
       "    }\n",
       "</style>\n",
       "<table border=\"1\" class=\"dataframe\">\n",
       "  <thead>\n",
       "    <tr style=\"text-align: right;\">\n",
       "      <th></th>\n",
       "      <th>Case Comments</th>\n",
       "    </tr>\n",
       "  </thead>\n",
       "  <tbody>\n",
       "    <tr>\n",
       "      <th>0</th>\n",
       "      <td>Email from the client: \\n\\n---------- Forwarde...</td>\n",
       "    </tr>\n",
       "    <tr>\n",
       "      <th>1</th>\n",
       "      <td>Email from the client: \\n\\n---------- Forwarde...</td>\n",
       "    </tr>\n",
       "    <tr>\n",
       "      <th>2</th>\n",
       "      <td>Email sent to the customer: \\n\\n---------- For...</td>\n",
       "    </tr>\n",
       "    <tr>\n",
       "      <th>3</th>\n",
       "      <td>As the 4G swap team is taking this forward, I ...</td>\n",
       "    </tr>\n",
       "    <tr>\n",
       "      <th>4</th>\n",
       "      <td>Email sent to the customer: \\n\\n---------- For...</td>\n",
       "    </tr>\n",
       "    <tr>\n",
       "      <th>5</th>\n",
       "      <td>As the 4G swap team is taking this forward, I ...</td>\n",
       "    </tr>\n",
       "    <tr>\n",
       "      <th>6</th>\n",
       "      <td>---------- Forwarded message ---------\\nFrom: ...</td>\n",
       "    </tr>\n",
       "    <tr>\n",
       "      <th>7</th>\n",
       "      <td>---------- Forwarded message ---------\\nFrom: ...</td>\n",
       "    </tr>\n",
       "    <tr>\n",
       "      <th>8</th>\n",
       "      <td>---------- Forwarded message ---------\\nFrom: ...</td>\n",
       "    </tr>\n",
       "    <tr>\n",
       "      <th>9</th>\n",
       "      <td>---------- Forwarded message ---------\\nFrom: ...</td>\n",
       "    </tr>\n",
       "  </tbody>\n",
       "</table>\n",
       "</div>"
      ],
      "text/plain": [
       "                                       Case Comments\n",
       "0  Email from the client: \\n\\n---------- Forwarde...\n",
       "1  Email from the client: \\n\\n---------- Forwarde...\n",
       "2  Email sent to the customer: \\n\\n---------- For...\n",
       "3  As the 4G swap team is taking this forward, I ...\n",
       "4  Email sent to the customer: \\n\\n---------- For...\n",
       "5  As the 4G swap team is taking this forward, I ...\n",
       "6  ---------- Forwarded message ---------\\nFrom: ...\n",
       "7  ---------- Forwarded message ---------\\nFrom: ...\n",
       "8  ---------- Forwarded message ---------\\nFrom: ...\n",
       "9  ---------- Forwarded message ---------\\nFrom: ..."
      ]
     },
     "execution_count": 93,
     "metadata": {},
     "output_type": "execute_result"
    }
   ],
   "source": [
    "com1.head(10)"
   ]
  },
  {
   "cell_type": "code",
   "execution_count": 94,
   "id": "19d162bb",
   "metadata": {},
   "outputs": [],
   "source": [
    "#dtale.show(com1)"
   ]
  },
  {
   "cell_type": "markdown",
   "id": "7fcc82f5",
   "metadata": {},
   "source": [
    "---\n",
    "#### Part-2 :\n",
    "- Parsing only \"Subject\", starting from **Freshdesk | Feedback Widget**\n",
    "    -  **Case Comments** contain *\"The decription of the ticket is as below\"*\n",
    "    -  **Case Comments** contain *\"Helpful Info powered by\"* (At Last)\n",
    "---"
   ]
  },
  {
   "cell_type": "code",
   "execution_count": 136,
   "id": "9b6b11ab",
   "metadata": {},
   "outputs": [
    {
     "data": {
      "text/plain": [
       "(45904, 17)"
      ]
     },
     "execution_count": 136,
     "metadata": {},
     "output_type": "execute_result"
    }
   ],
   "source": [
    "dfx = df1[df1['Subject'].str.contains(r'^Freshdesk | Feedback Widget', \n",
    "                                         regex=True, na=False) == True]\n",
    "dfx = dfx.reset_index(drop=True)\n",
    "dfx.shape"
   ]
  },
  {
   "cell_type": "code",
   "execution_count": 137,
   "id": "06d30678",
   "metadata": {},
   "outputs": [],
   "source": [
    "#dtale.show(dfx)"
   ]
  },
  {
   "cell_type": "code",
   "execution_count": 138,
   "id": "c237be15",
   "metadata": {},
   "outputs": [
    {
     "data": {
      "text/plain": [
       "(5948, 17)"
      ]
     },
     "execution_count": 138,
     "metadata": {},
     "output_type": "execute_result"
    }
   ],
   "source": [
    "dfx_f = dfx[dfx['Case Comments'].str.contains(r'The description of the ticket is as below', \n",
    "                                            regex=True, na=False) == True]\n",
    "dfx_f =  dfx_f.reset_index(drop=True)   \n",
    "dfx_f.shape                                        "
   ]
  },
  {
   "cell_type": "code",
   "execution_count": 139,
   "id": "1df5f0b0",
   "metadata": {},
   "outputs": [
    {
     "data": {
      "text/plain": [
       "(5948, 2)"
      ]
     },
     "execution_count": 139,
     "metadata": {},
     "output_type": "execute_result"
    }
   ],
   "source": [
    "x = dfx_f['Case Comments'].str.split(\"The description of the ticket is as below\",  n = 1, expand = True)\n",
    "x.shape"
   ]
  },
  {
   "cell_type": "code",
   "execution_count": 140,
   "id": "4422b159",
   "metadata": {},
   "outputs": [],
   "source": [
    "#- Using \"Str.split()\" To just split the strings & create two Index columns | Assign [0][1] columns after split, to Main DataFrame (dfx_f) with New Column names\n",
    "#-<support@azuga.freshdesk.com> wrote:\n",
    "x = dfx_f['Case Comments'].str.split(\"The description of the ticket is as below\", n = 1, expand = True)\n",
    "# Creating New Columns\n",
    "dfx_f['Initial String'] = x[0] \n",
    "dfx_f['Customer Comments'] = x[1]"
   ]
  },
  {
   "cell_type": "code",
   "execution_count": 141,
   "id": "07cc7bb0",
   "metadata": {},
   "outputs": [
    {
     "data": {
      "text/plain": [
       "Index(['Is Incoming', 'Case Origin', 'Closed', 'From Address', 'Case Owner',\n",
       "       'Case Comments', 'Account Name', 'Subject', 'Date/Time Opened', 'Open',\n",
       "       'Email Subject', 'Age (Hours)', 'Email Status', 'Email Message Date',\n",
       "       'Case Comment Created By', 'From Name', 'Case Number',\n",
       "       'Customer Comments'],\n",
       "      dtype='object')"
      ]
     },
     "execution_count": 141,
     "metadata": {},
     "output_type": "execute_result"
    }
   ],
   "source": [
    "# Drop the Column that is not required\n",
    "dfx_f.drop(columns=['Initial String'], inplace=True)\n",
    "dfx_f.columns"
   ]
  },
  {
   "cell_type": "code",
   "execution_count": 142,
   "id": "fbde307c",
   "metadata": {},
   "outputs": [],
   "source": [
    "# Re Index the Pandas Data Frame, w.r.t. Required Positions for all columns\n",
    "dfx_f = dfx_f.reindex(columns=['Is Incoming', 'Case Origin', 'Closed', 'From Address', 'Case Owner',\n",
    "       'Customer Comments', 'Account Name', 'Subject', 'Date/Time Opened', 'Open',\n",
    "       'Email Subject', 'Age (Hours)', 'Email Status', 'Email Message Date',\n",
    "       'Case Comment Created By', 'From Name', 'Case Number',\n",
    "       'Case Comments'])"
   ]
  },
  {
   "cell_type": "code",
   "execution_count": 143,
   "id": "679c680d",
   "metadata": {},
   "outputs": [
    {
     "name": "stdout",
     "output_type": "stream",
     "text": [
      "[' \\n   \\n I am attempting to set up my new system by adding vehicle types but you will not allow me due to this error message below.     SOMETHING BAD HAPPENED.     Someone needs to call me ASAP 617 938 6522'\n",
      " \" \\n   \\n Good morning,  Truck #7's tacker is not working. Please advise. Thank you\"\n",
      " \"\\n\\n\\n\\n1101605018 can you check this Serial #. I'm thinking I have two devices that need to be swapped. Currently I have this in a 2019 F650 but its not showing mileage on my dashboard. The other vehicle that is not showing mileage is a 2009 Kenworth with serial # 1101704245. Could you check to see if I need to swap these?\\n\\nHelpful Info powered by Freshdesk Support Desk\"\n",
      " ...\n",
      " ' \\n   \\n Hi,†  We received a notification for hard braking for Unit 10 and Unit 11 today but neither have shown up in videos.† Does that mean their cameras are not plugged in?'\n",
      " ' \\n   \\n The device name Truck 6 is picking up the wrong mileage. Mileage should read 373713'\n",
      " ' \\n   \\n I just added two new devices. They are registered as vehicle 2495 and 5670. Can you please add these to group 603.']\n"
     ]
    }
   ],
   "source": [
    "#- In total There are 1842 Unique Comments\n",
    "x = dfx_f['Customer Comments'].unique()\n",
    "x.shape\n",
    "print(x)"
   ]
  },
  {
   "cell_type": "code",
   "execution_count": 144,
   "id": "048d409d",
   "metadata": {},
   "outputs": [],
   "source": [
    "#- Import \"Stop Words\" & \"Word_Tokenize\" Libraries\n",
    "from nltk.corpus import stopwords\n",
    "from nltk.tokenize import word_tokenize \n",
    "stop_words = set(stopwords.words('english')) #- Consider only Stop Words w.r.t. \"English\" lang."
   ]
  },
  {
   "cell_type": "code",
   "execution_count": 145,
   "id": "50361525",
   "metadata": {},
   "outputs": [
    {
     "data": {
      "text/plain": [
       "'!\"#$%&\\'()*+,-./:;<=>?@[\\\\]^_`{|}~'"
      ]
     },
     "execution_count": 145,
     "metadata": {},
     "output_type": "execute_result"
    }
   ],
   "source": [
    "import string\n",
    "string.punctuation"
   ]
  },
  {
   "cell_type": "markdown",
   "id": "4598e7dd",
   "metadata": {},
   "source": [
    "##### Create a Function - \"Pre-Process\" / \"Remove-Links\"\n",
    "- To Remove (Puntuations /  Email User Ids / StopWords/ Double Spacing / Additional Spacing / Numbers)\n",
    "- Convert all sentences to Lower Cases."
   ]
  },
  {
   "cell_type": "code",
   "execution_count": 147,
   "id": "f5715079",
   "metadata": {},
   "outputs": [],
   "source": [
    "#-> Final Function (To Automate all)\n",
    "#- Remove Links\n",
    "def remove_links(comment):\n",
    "    '''Takes the String Input and removes HTTP , bit.ly and [links]'''\n",
    "    comment = re.sub(r'From:\\s+','',comment)   # Remove http links\n",
    "    comment = re.sub(r'To:\\s+','',comment) # Remove bit.ly links\n",
    "    comment = comment.strip('[links]')        # Remove Links of all types\n",
    "    return comment\n",
    "\n",
    "my_punctuation = '!\"$%&\\'()*+,-./:;<=>?[\\\\]^_`{|}~•@†#'\n",
    "def preprocess(sent):\n",
    "    ''' \n",
    "    Takes String Input, Removes Links/ User Info. / Retweets.\n",
    "    Converts the Text Data to Lower Case, completely.\n",
    "    Removes \"Double Spacing\" & \"Punctuations\" & \"Numbers\" from Text.\n",
    "    Performs Tokenization , & sents TOKENs as an o/p (After Joining)\n",
    "    Removes StopWords & sents O/P w.o. Stopwords (After Joining)\n",
    "    '''\n",
    "    sent = re.sub('Helpful Info powered by Freshdesk Support Desk','',sent)                            # Send a call to \"Remove_Users\" function\n",
    "    sent = sent.lower()                                  # Convert to Lower Case\n",
    "    sent = re.sub('\\n', '', sent)\n",
    "    sent = re.sub('\\s+',' ',sent)                        # Remove Double Spacing\n",
    "    #sent = re.sub('\\n\\n' , '\\n', sent)\n",
    "    sent = re.sub('[0-9+]','',sent)                      # Remove Numbers\n",
    "    sent = re.sub('[+'+ my_punctuation +']+','',sent)    # Removes Punctuation \"In Between/ at Start/ at End\" of Text\n",
    "    sent_token_list = [word for word in sent.split(' ')] # Basic Tokenization\n",
    "    sent = ' '.join(sent_token_list)                     # Join Tokenized output and sends\n",
    "    sent_stopwords_rm = [word for word in sent.split() if word.lower() not in stopwords.words('english')]                \n",
    "    sent = ' '.join(sent_stopwords_rm)\n",
    "    return sent\n",
    "\n",
    "#def remove_extra(sent):\n",
    "     "
   ]
  },
  {
   "cell_type": "code",
   "execution_count": 148,
   "id": "c0ef93cb",
   "metadata": {},
   "outputs": [],
   "source": [
    "#- Only Considering Records, with Unique Customer Comments\n",
    "#df_unique = dfx_f.drop_duplicates('Customer Comments', keep='last')\n",
    "#df_unique = dfx_f.drop_duplicates('Customer Comments', keep='last', inplace=True)\n",
    "#df_unique.shape\n",
    "\n",
    "\n",
    "#dfx_f['Customer Comments'].apply(text_process)"
   ]
  },
  {
   "cell_type": "code",
   "execution_count": 149,
   "id": "9213d648",
   "metadata": {},
   "outputs": [
    {
     "name": "stderr",
     "output_type": "stream",
     "text": [
      "100%|██████████| 5948/5948 [00:22<00:00, 261.08it/s]\n"
     ]
    }
   ],
   "source": [
    "#- Apply Above Defined Functions to \"short_df['Tweet']\" (Tweets)\n",
    "dfx_f['Customer Comments'] = dfx_f['Customer Comments'].progress_apply(\n",
    "    lambda x: preprocess(x))"
   ]
  },
  {
   "cell_type": "code",
   "execution_count": 150,
   "id": "a95faaf1",
   "metadata": {},
   "outputs": [
    {
     "data": {
      "text/plain": [
       "0       attempting set new system adding vehicle types...\n",
       "1       attempting set new system adding vehicle types...\n",
       "2       attempting set new system adding vehicle types...\n",
       "3       attempting set new system adding vehicle types...\n",
       "4       attempting set new system adding vehicle types...\n",
       "                              ...                        \n",
       "5943    hi received notification hard braking unit uni...\n",
       "5944    device name truck picking wrong mileage mileag...\n",
       "5945    device name truck picking wrong mileage mileag...\n",
       "5946    added two new devices registered vehicle pleas...\n",
       "5947    added two new devices registered vehicle pleas...\n",
       "Name: Customer Comments, Length: 5948, dtype: object"
      ]
     },
     "execution_count": 150,
     "metadata": {},
     "output_type": "execute_result"
    }
   ],
   "source": [
    "dfx_f['Customer Comments'] "
   ]
  },
  {
   "cell_type": "code",
   "execution_count": 151,
   "id": "5aa562d8",
   "metadata": {},
   "outputs": [],
   "source": [
    "#- Download \"perluniprops\" from \"NLTK\" using \"download_shell()\" - For De-Tokenaization\n",
    "#import nltk\n",
    "#nltk.download_shell()\n"
   ]
  },
  {
   "cell_type": "code",
   "execution_count": 152,
   "id": "fdfd205d",
   "metadata": {},
   "outputs": [
    {
     "data": {
      "text/plain": [
       "(5948, 17)"
      ]
     },
     "execution_count": 152,
     "metadata": {},
     "output_type": "execute_result"
    }
   ],
   "source": [
    "dfx_f.drop(columns='From Address', inplace=True)\n",
    "dfx_f.shape"
   ]
  },
  {
   "cell_type": "code",
   "execution_count": 153,
   "id": "75b69b1a",
   "metadata": {},
   "outputs": [
    {
     "data": {
      "text/plain": [
       "(1696, 17)"
      ]
     },
     "execution_count": 153,
     "metadata": {},
     "output_type": "execute_result"
    }
   ],
   "source": [
    "#df_unique = dfx_f['Case Comments'].to_string()\n",
    "df_unique = dfx_f.drop_duplicates('Customer Comments', keep='last')\n",
    "df_unique = df_unique.reset_index(drop=True)\n",
    "df_unique.shape"
   ]
  },
  {
   "cell_type": "code",
   "execution_count": 154,
   "id": "6e149bb4",
   "metadata": {},
   "outputs": [
    {
     "data": {
      "text/plain": [
       "<bound method Series.unique of 0       attempting set new system adding vehicle types...\n",
       "1       good morning truck tacker working please advis...\n",
       "2       check serial im thinking two devices need swap...\n",
       "3                   device issues weeks ago isnt tracking\n",
       "4                              please advise unit working\n",
       "                              ...                        \n",
       "1691                   neither gps camera working vehicle\n",
       "1692                would like someone call susan haupert\n",
       "1693    hi received notification hard braking unit uni...\n",
       "1694    device name truck picking wrong mileage mileag...\n",
       "1695    added two new devices registered vehicle pleas...\n",
       "Name: Customer Comments, Length: 1696, dtype: object>"
      ]
     },
     "execution_count": 154,
     "metadata": {},
     "output_type": "execute_result"
    }
   ],
   "source": [
    "df_unique['Customer Comments'].unique"
   ]
  },
  {
   "cell_type": "code",
   "execution_count": 155,
   "id": "6c1a7afd",
   "metadata": {},
   "outputs": [
    {
     "data": {
      "text/html": [
       "\n",
       "        <iframe\n",
       "            width=\"100%\"\n",
       "            height=\"475\"\n",
       "            src=\"http://ATMAC068.local:40000/dtale/iframe/3\"\n",
       "            frameborder=\"0\"\n",
       "            allowfullscreen\n",
       "            \n",
       "        ></iframe>\n",
       "        "
      ],
      "text/plain": [
       "<IPython.lib.display.IFrame at 0x7f86ffbd55e0>"
      ]
     },
     "metadata": {},
     "output_type": "display_data"
    },
    {
     "data": {
      "text/plain": []
     },
     "execution_count": 155,
     "metadata": {},
     "output_type": "execute_result"
    }
   ],
   "source": [
    "dtale.show(df_unique)"
   ]
  },
  {
   "cell_type": "code",
   "execution_count": 156,
   "id": "955ded4e",
   "metadata": {},
   "outputs": [],
   "source": [
    "# - Generate a Processed Output file\n",
    "df_unique.to_csv('Feedback_processed_f1.csv', index=False)"
   ]
  },
  {
   "cell_type": "markdown",
   "id": "d781d19c",
   "metadata": {},
   "source": [
    "##### Issues to Resolve, when going for scaling this algorithm\n",
    "- **1)** Spacing Issue (Many Duplicate comments already have spacing, At start/In Middle etc..) | This needs to be taken care of."
   ]
  }
 ],
 "metadata": {
  "kernelspec": {
   "display_name": "Python 3 (ipykernel)",
   "language": "python",
   "name": "python3"
  },
  "language_info": {
   "codemirror_mode": {
    "name": "ipython",
    "version": 3
   },
   "file_extension": ".py",
   "mimetype": "text/x-python",
   "name": "python",
   "nbconvert_exporter": "python",
   "pygments_lexer": "ipython3",
   "version": "3.9.7"
  }
 },
 "nbformat": 4,
 "nbformat_minor": 5
}
